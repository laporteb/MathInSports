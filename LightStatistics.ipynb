{
 "cells": [
  {
   "cell_type": "markdown",
   "metadata": {},
   "source": [
    "#Light Statistics\n",
    "\n",
    "In the Hot Hand investigation, we compared the length of the longest run in the data for various players to the longest run in data generated in independent Bernoulli Trials with a given value of p.  If the player runs were too long or too short compared to the results of Bernoulli trials we could conclude the data was not randomly generated.  However, due to the variation in the length of the longest run in the randomingly generated data, “too long” or “too short” need be better defined.  This section will cover more about random variables and their distributions to bring more clarity to this.\n",
    "\n",
    "##Random Variables\n",
    "\n",
    "A Random Variable is a rule that assigns a number to each outcome of an experiment. There may be more than one random variable associated with an experiment.  For some random variables, the possible values of the variable can be separated and listed in either a finite list or an infinite list. These variables are called **discrete random variables**.  Some examples are shown\n",
    "below:\n",
    "\n",
    "|Experiment |Random Variable | X Possible values of X |\n",
    "|-----------|----------------|------------------------|\n",
    "|Roll a pair of six-sided dice| Sum of the numbers |{2, 3, 4, 5, 6, 7, 8, 9, 10, 11, 12}|\n",
    "|Toss a coin 5 times| Number of tails| {0, 1, 2, 3, 4, 5}|\n",
    "|Flip a coin until you get a tail| The number of coin flips| {1, 2, 3, . . . , }|\n",
    "|Flip a coin 50 times| Longest run of heads| {0, 1, 2, 3, . . . , 50}|\n",
    "\n",
    "A **continuous random variable** can assume any value between some interval.  Some examples shown below\n",
    "\n",
    "|Experiment Random |Variable, X |\n",
    "|------------------|------------|\n",
    "|Choose an NFL Quarterback at random |Height |\n",
    "|Choose an NCAA Shot Putter at random |Arm Length |\n",
    "|Choose a Track and Field athlete at random |Their best time for 100 meters |\n",
    "\n",
    "Continuous random and discrete random variables are analogous with linear and digital signals.\n",
    "\n",
    "##Probability Distributions For Random Variables\n",
    "\n",
    "For a discrete random variable with finite possible values,the probability that a specific value will be observed is equal to the sum of probabilites of the outcomes associated to that value.  This assignment of probabilities to each possible value of X is called the probability distribution of X.    \n",
    "\n",
    "An experiment consists of flipping a coin 4 times and observing the sequence of heads and tails. The random variable X is the number of heads in the observed sequence. \n"
   ]
  },
  {
   "cell_type": "code",
   "execution_count": 4,
   "metadata": {
    "collapsed": true
   },
   "outputs": [],
   "source": [
    "%matplotlib inline"
   ]
  },
  {
   "cell_type": "code",
   "execution_count": 5,
   "metadata": {
    "collapsed": false
   },
   "outputs": [
    {
     "name": "stdout",
     "output_type": "stream",
     "text": [
      "The sample space = [[0, 0, 0, 0], [0, 0, 0, 1], [0, 0, 1, 0], [0, 0, 1, 1], [0, 1, 0, 0], [0, 1, 0, 1], [0, 1, 1, 0], [0, 1, 1, 1], [1, 0, 0, 0], [1, 0, 0, 1], [1, 0, 1, 0], [1, 0, 1, 1], [1, 1, 0, 0], [1, 1, 0, 1], [1, 1, 1, 0], [1, 1, 1, 1]]\n"
     ]
    }
   ],
   "source": [
    "import numpy as np\n",
    "import pandas as pd\n",
    "import matplotlib.pyplot as plt\n",
    "import seaborn as sns\n",
    "from IPython.display import display\n",
    "\n",
    "sns.set_context('notebook', font_scale=1.25)\n",
    "\n",
    "#create the sample space with 0's being Tails and 1's being Heads\n",
    "a = np.array([0,1])\n",
    "b = np.array([0,1])\n",
    "c = np.array([0,1])\n",
    "d = np.array([0,1])\n",
    "sample_space = [[a0, b0, c0, d0] for a0 in a for b0 in b for c0 in c for d0 in d]\n",
    "print(\"The sample space = {0}\".format(sample_space))"
   ]
  },
  {
   "cell_type": "code",
   "execution_count": 43,
   "metadata": {
    "collapsed": false
   },
   "outputs": [
    {
     "data": {
      "image/png": "[encoded data removed]",
      "text/plain": [
       "<matplotlib.figure.Figure at 0xb81c210>"
      ]
     },
     "metadata": {},
     "output_type": "display_data"
    }
   ],
   "source": [
    "# determine the number of heads for each possible outcome\n",
    "sample_space = np.array(sample_space)\n",
    "num_heads = []\n",
    "\n",
    "for outcome in sample_space:\n",
    "    num_heads.append(outcome.sum())\n",
    "num_heads = pd.Series(num_heads, name=\"Number of Heads\")\n",
    "\n",
    "# setup the number of bins for the plot\n",
    "bins = [i for i in range(0,num_heads.max()+2)]\n",
    "\n",
    "# plot the probability distrubution of heads\n",
    "ax = sns.distplot(num_heads, bins=bins, kde=False, norm_hist=True, hist_kws = {'align': 'left'})\n"
   ]
  },
  {
   "cell_type": "markdown",
   "metadata": {},
   "source": [
    "The above graph shows the number of heads on the bottom x-axis and the probability is is on the y-axis.  By Making all bars of equal width, we ensure that the graph adheres to the **area principle** in that the probability that any set of values will occur is equal to the area of the bars above those values. The total area of the distribution is 1.  As an example if we wanted to know the probability of having at least 2 or more heads we would add the probabilites of 2, 3, and 4.  This would be approximately 38% + 25% + 6% = 69%."
   ]
  },
  {
   "cell_type": "markdown",
   "metadata": {},
   "source": [
    "##Continuous Random Variables. \n",
    "The probability distribution of a continuous random variable cannot be represented in a table since the possible values of the variable cannot be separated. The distribution is represented using the graphical method as a continuous curve and is called a probability density function. Probabilities are calculated for intervals instead of particular values. The probability that the value of a random variable will fall in the interval [a, b], denoted $P(a ≤ X ≤ b)$ is given by the area under the probability\n",
    "density function above that interval. The area under the entire probability density curve is 1\n",
    "\n",
    "As an example we can look at the average rushing yard per game by running backs in 2014."
   ]
  },
  {
   "cell_type": "code",
   "execution_count": 28,
   "metadata": {
    "collapsed": false
   },
   "outputs": [
    {
     "data": {
      "text/html": [
       "<div>\n",
       "<table border=\"1\" class=\"dataframe\">\n",
       "  <thead>\n",
       "    <tr style=\"text-align: right;\">\n",
       "      <th></th>\n",
       "      <th>Player</th>\n",
       "      <th>Tm</th>\n",
       "      <th>Age</th>\n",
       "      <th>Pos</th>\n",
       "      <th>G</th>\n",
       "      <th>GS</th>\n",
       "      <th>Att</th>\n",
       "      <th>Yds</th>\n",
       "      <th>TD</th>\n",
       "      <th>Lng</th>\n",
       "      <th>Y/A</th>\n",
       "      <th>Y/G</th>\n",
       "    </tr>\n",
       "  </thead>\n",
       "  <tbody>\n",
       "    <tr>\n",
       "      <th>0</th>\n",
       "      <td>DeMarco Murray*+</td>\n",
       "      <td>DAL</td>\n",
       "      <td>26</td>\n",
       "      <td>RB</td>\n",
       "      <td>16</td>\n",
       "      <td>16</td>\n",
       "      <td>392</td>\n",
       "      <td>1845</td>\n",
       "      <td>13</td>\n",
       "      <td>51</td>\n",
       "      <td>4.7</td>\n",
       "      <td>115.3</td>\n",
       "    </tr>\n",
       "    <tr>\n",
       "      <th>6</th>\n",
       "      <td>Arian Foster*</td>\n",
       "      <td>HOU</td>\n",
       "      <td>28</td>\n",
       "      <td>RB</td>\n",
       "      <td>13</td>\n",
       "      <td>13</td>\n",
       "      <td>260</td>\n",
       "      <td>1246</td>\n",
       "      <td>8</td>\n",
       "      <td>51</td>\n",
       "      <td>4.8</td>\n",
       "      <td>95.8</td>\n",
       "    </tr>\n",
       "    <tr>\n",
       "      <th>2</th>\n",
       "      <td>Le'Veon Bell*+</td>\n",
       "      <td>PIT</td>\n",
       "      <td>22</td>\n",
       "      <td>RB</td>\n",
       "      <td>16</td>\n",
       "      <td>16</td>\n",
       "      <td>290</td>\n",
       "      <td>1361</td>\n",
       "      <td>8</td>\n",
       "      <td>81</td>\n",
       "      <td>4.7</td>\n",
       "      <td>85.1</td>\n",
       "    </tr>\n",
       "    <tr>\n",
       "      <th>1</th>\n",
       "      <td>LeSean McCoy*</td>\n",
       "      <td>PHI</td>\n",
       "      <td>26</td>\n",
       "      <td>RB</td>\n",
       "      <td>16</td>\n",
       "      <td>16</td>\n",
       "      <td>312</td>\n",
       "      <td>1319</td>\n",
       "      <td>5</td>\n",
       "      <td>53</td>\n",
       "      <td>4.2</td>\n",
       "      <td>82.4</td>\n",
       "    </tr>\n",
       "    <tr>\n",
       "      <th>3</th>\n",
       "      <td>Marshawn Lynch*</td>\n",
       "      <td>SEA</td>\n",
       "      <td>28</td>\n",
       "      <td>RB</td>\n",
       "      <td>16</td>\n",
       "      <td>14</td>\n",
       "      <td>280</td>\n",
       "      <td>1306</td>\n",
       "      <td>13</td>\n",
       "      <td>79</td>\n",
       "      <td>4.7</td>\n",
       "      <td>81.6</td>\n",
       "    </tr>\n",
       "  </tbody>\n",
       "</table>\n",
       "</div>"
      ],
      "text/plain": [
       "             Player   Tm  Age Pos   G  GS  Att   Yds  TD  Lng  Y/A    Y/G\n",
       "0  DeMarco Murray*+  DAL   26  RB  16  16  392  1845  13   51  4.7  115.3\n",
       "6     Arian Foster*  HOU   28  RB  13  13  260  1246   8   51  4.8   95.8\n",
       "2    Le'Veon Bell*+  PIT   22  RB  16  16  290  1361   8   81  4.7   85.1\n",
       "1     LeSean McCoy*  PHI   26  RB  16  16  312  1319   5   53  4.2   82.4\n",
       "3   Marshawn Lynch*  SEA   28  RB  16  14  280  1306  13   79  4.7   81.6"
      ]
     },
     "metadata": {},
     "output_type": "display_data"
    }
   ],
   "source": [
    "import os\n",
    "\n",
    "basedir = os.getcwd()\n",
    "filename = os.path.join(basedir, \"data\\\\football.csv\")\n",
    "\n",
    "df = pd.read_csv(filename)          # read in the data\n",
    "df = df.loc[:,'Player':'Y/G']      # grab columns we are interested in\n",
    "df = df[df['Att']>100]              #only concern ourselves with players that have at least 100 carries\n",
    "df.sort_index(by='Y/G', ascending=False, inplace=True)   # sort by yards per carry\n",
    "\n",
    "display(df.head(5))      # display top 5\n"
   ]
  },
  {
   "cell_type": "markdown",
   "metadata": {},
   "source": [
    "Above is a preview of the data.  The column that we will be interested in is Y/G (yards per game).  We will select that column and plot the probility density."
   ]
  },
  {
   "cell_type": "code",
   "execution_count": 49,
   "metadata": {
    "collapsed": false
   },
   "outputs": [
    {
     "data": {
      "image/png": "[encoded data removed]",
      "text/plain": [
       "<matplotlib.figure.Figure at 0xbd32810>"
      ]
     },
     "metadata": {},
     "output_type": "display_data"
    }
   ],
   "source": [
    "ypg = df['Y/G']\n",
    "sns.distplot(ypg, hist=False, rug=True, kde_kws={'shade':True})\n",
    "\n",
    "sns.axlabel('Yards per Game', 'Probability Density')"
   ]
  },
  {
   "cell_type": "markdown",
   "metadata": {},
   "source": [
    "Looking at the above graph we can see that picking a player at random from the list we are about 50% likely that they average approximately 50 yards per game.  We check this below."
   ]
  },
  {
   "cell_type": "code",
   "execution_count": 72,
   "metadata": {
    "collapsed": false
   },
   "outputs": [
    {
     "data": {
      "text/html": [
       "<div>\n",
       "<table border=\"1\" class=\"dataframe\">\n",
       "  <thead>\n",
       "    <tr style=\"text-align: right;\">\n",
       "      <th></th>\n",
       "      <th>Above 50 YPG</th>\n",
       "      <th>Below 50 YPG</th>\n",
       "    </tr>\n",
       "  </thead>\n",
       "  <tbody>\n",
       "    <tr>\n",
       "      <th>0</th>\n",
       "      <td>23</td>\n",
       "      <td>20</td>\n",
       "    </tr>\n",
       "  </tbody>\n",
       "</table>\n",
       "</div>"
      ],
      "text/plain": [
       "   Above 50 YPG  Below 50 YPG\n",
       "0            23            20"
      ]
     },
     "metadata": {},
     "output_type": "display_data"
    }
   ],
   "source": [
    "df1 = df[df['Y/G']>=50]        # create frame with players above 50 ypg\n",
    "df2 = df[df['Y/G']<50]         # create frame with players below 50 ypg\n",
    "list1 = []                     # used for creating a new frame\n",
    "dict1 = {}                     # used for creating a new frame\n",
    "\n",
    "dict1['Above 50 YPG'] = df1['Player'].count()   # get the player count\n",
    "dict1['Below 50 YPG'] = df2['Player'].count()   #\n",
    "list1.append(dict1)\n",
    "\n",
    "display(pd.DataFrame(list1))"
   ]
  },
  {
   "cell_type": "markdown",
   "metadata": {},
   "source": [
    "##Expected Value of a Random Variable\n",
    "Considering the experiment of flipping a coin 4 times and the random variable X which is equal to the number of heads in the sequence. The graph of the distribution is symmetric and centered at the value X = 2. This is the balance point of the graph and it gives us a measure of the center of the distribution. It is a very important and widely used statistic and is\n",
    "related to our expectations for the average value of the variable over many trials of the experiment.\n",
    "\n",
    "###Average of a set of observations\n",
    "Given the following sequence of die rolls \n",
    "$$ 1, 6, 3, 2, 5, 2, 3, 2, 4, 6, 4, 6, 2, 6, 3, 6, 2, 6, 3, 5 $$\n",
    "we can calculate the average by summing the outcome and dividing by the number or trials"
   ]
  },
  {
   "cell_type": "code",
   "execution_count": 81,
   "metadata": {
    "collapsed": false
   },
   "outputs": [
    {
     "name": "stdout",
     "output_type": "stream",
     "text": [
      "The mean equals 3.85\n"
     ]
    }
   ],
   "source": [
    "outcomes = np.array((1, 6, 3, 2, 5, 2, 3, 2, 4, 6, 4, 6, 2, 6, 3, 6, 2, 6, 3, 5))(\n",
    "average = outcomes.sum()/len(outcomes))\n",
    "print(\"The mean equals {:1.2f}\".format(average))"
   ]
  },
  {
   "cell_type": "markdown",
   "metadata": {},
   "source": [
    "Alternatively, we can create a frequency table of the outcomes and calculate by the sum of the outcomes times relative frequency\n",
    "\n",
    "$$ 1\\frac{f_1}{20} + 2\\frac{f_2}{20} + 3\\frac{f_3}{20} + 4\\frac{f_4}{20} + 5\\frac{f_5}{20} + 6\\frac{f_6}{20}$$"
   ]
  },
  {
   "cell_type": "code",
   "execution_count": 100,
   "metadata": {
    "collapsed": false
   },
   "outputs": [
    {
     "name": "stdout",
     "output_type": "stream",
     "text": [
      "Value, Freq\n"
     ]
    },
    {
     "data": {
      "text/plain": [
       "1    1\n",
       "2    5\n",
       "3    4\n",
       "4    2\n",
       "5    2\n",
       "6    6\n",
       "dtype: int64"
      ]
     },
     "metadata": {},
     "output_type": "display_data"
    },
    {
     "name": "stdout",
     "output_type": "stream",
     "text": [
      "The mean equals 3.85\n"
     ]
    }
   ],
   "source": [
    "outcomes = pd.Series(outcomes)\n",
    "print(\"Value, Freq\")\n",
    "\n",
    "value = outcomes.get_values()\n",
    "freq = outcomes.keys()\n",
    "\n",
    "mean=0\n",
    "\n",
    "for v, f in zip(value, freq):\n",
    "    mean = mean + v*f/20\n",
    "\n",
    "display(pd.value_counts(outcomes, sort=False, ascending=True))\n",
    "print(\"The mean equals {:1.2f}\".format(average))\n"
   ]
  },
  {
   "cell_type": "markdown",
   "metadata": {},
   "source": [
    "In a small set of data, the relative frequencies may not match the probabilities. However in a very\n",
    "large set of data, the relative frequencies should match the probability of the outcome.  In the case of rolling a six sided die, the probability is 1/6 for any outcome. Thus for a large number (N) of trials, we expect the average number of observed numbers to be\n",
    "\n",
    "$$ E(X) = x_1 p_1 + x_2 p_2 + x_3 p_3 + ... + x_n p_n = \\mu  $$\n",
    " \n",
    "$ x_1 = \\text{Outcome x1} $\n",
    "\n",
    "$ p_1 = \\text{Probability of x1} $  and so on.\n",
    "\n",
    "This is the expected value of X or $E(X)\\text{ or }\\mu $ and above is the general formula for the expected value for a discrete random variable and graphically it is the balance point of the distrubution.\n",
    "\n",
    "Returning to the die rolling example we have the following:\n",
    "\n",
    "$$ 1\\frac{1}{6} + 2\\frac{1}{6} + 3\\frac{1}{6} + 4\\frac{1}{6} +5\\frac{1}{6} + 6\\frac{1}{6} = 3.5 = \\mu$$"
   ]
  },
  {
   "cell_type": "markdown",
   "metadata": {},
   "source": [
    "###Expected Value of a Continuous Random Variable \n",
    "For a continuous random variable, X, integration can be used to calculate the expected value E(X), and can be thought of geometrically as the balance point of the probability density function. As well we can also interpret the expected value, E(X), as the number we would expect to get if we calculated the average of the observations of the variable X over many trials of the\n",
    "experiment."
   ]
  },
  {
   "cell_type": "markdown",
   "metadata": {},
   "source": [
    "##Standard Deviation and Variance\n",
    "A commonly used measure of variability in distributions of random variables is the standard deviation.\n",
    "The square of the standard deviation, called the variance, is also commonly used. The variance\n",
    "of a random variable can be viewed as the average squared distance from the mean or expected value of a\n",
    "random variable over a large number of trials of the experiment. The standard deviation is the square root\n",
    "of the variance. This may be viewed as an attempt to create a measure of deviation from the mean in the\n",
    "original units in which the variable is measured.\n",
    "\n",
    "$$ Variance = \\sigma^2(X) = p_1(x_1 - \\mu)^2 + p_2(x_2 - \\mu)^2 + ... + p_n(x_n - \\mu)^2 $$\n",
    "\n",
    "and\n",
    "\n",
    "$$ \\text{Standard Deviation} = \\sigma(X) = \\sqrt{Variance} $$\n",
    "\n",
    "Consider the following experiment\n",
    "\n",
    "An experiment consists of flipping a coin 4 times and observing the sequence of heads and\n",
    "tails. The random variable Z is the number of runs in the sequence. Find E(Z), and the standard deviation,\n",
    "σ(Z)\n"
   ]
  },
  {
   "cell_type": "code",
   "execution_count": 26,
   "metadata": {
    "collapsed": false
   },
   "outputs": [
    {
     "name": "stdout",
     "output_type": "stream",
     "text": [
      "E(Z) and STD for calculation equals: 2.5, 0.8660254037844386\n",
      "E(Z) and STD for simulation equals: 2.51, 0.8592438536294571\n"
     ]
    }
   ],
   "source": [
    "# We can come to the answer by two different ways by figuring out probabilities of all possible outcomes or by simulation with\n",
    "# a large number of trials\n",
    "\n",
    "# define function for finding runs in a sample\n",
    "def find_runs(sample):\n",
    "    run= 0\n",
    "    last= None\n",
    "    for s in sample:\n",
    "        if s != last:\n",
    "            run = run + 1\n",
    "            last = s\n",
    "    \n",
    "    return run\n",
    "\n",
    "# MATH WAY FIRST\n",
    "\n",
    "# first generate the sample space of all possible unique outcomes\n",
    "sample_space = [[x1,x2,x3,x4] for x1 in (0,1) for x2 in (0,1) for x3 in (0,1) for x4 in (0,1)]\n",
    "\n",
    "runs1 = []   # create empty list for runs\n",
    "\n",
    "for outcome in sample_space:\n",
    "    runs1.append(find_runs(outcome))\n",
    "\n",
    "runs1 = np.array(runs1)\n",
    "    \n",
    "values, counts = np.unique(runs, return_counts=True)\n",
    "probs = counts/len(runs)  # divide each count by the length for probability\n",
    "mean = (values * probs).sum() # calclulate the mean or Ez\n",
    "\n",
    "# calculate the variance\n",
    "\n",
    "variance = (np.square(values - mean) * probs).sum()\n",
    "\n",
    "\n",
    "std_calc = np.sqrt(variance)\n",
    "\n",
    "# SIMULATION METHOD\n",
    "\n",
    "# create a large number of trials for simulation\n",
    "trials = [np.random.binomial(1, 0.5, 4) for i in range(5000)]   # 4 coin tosses 5000 times\n",
    "\n",
    "runs2 = []   # create empty list for runs\n",
    "\n",
    "for outcome in trials:\n",
    "    runs2.append(find_runs(outcome))\n",
    "\n",
    "runs2 = np.array(runs2)\n",
    "\n",
    "mean_sim = runs2.mean()      # get the mean or expected value\n",
    "std_sim = runs2.std()        # get the standard deviation\n",
    "\n",
    "# PRINT OUT RESULTS\n",
    "\n",
    "print('E(Z) and STD for calculation equals: {}, {}'.format(mean, std_calc))\n",
    "print('E(Z) and STD for simulation equals: {}, {}'.format(mean_sim, std_sim))\n",
    "\n",
    "\n",
    "\n"
   ]
  },
  {
   "cell_type": "code",
   "execution_count": null,
   "metadata": {
    "collapsed": true
   },
   "outputs": [],
   "source": []
  },
  {
   "cell_type": "code",
   "execution_count": null,
   "metadata": {
    "collapsed": true
   },
   "outputs": [],
   "source": []
  }
 ],
 "metadata": {
  "kernelspec": {
   "display_name": "Python 3",
   "language": "python",
   "name": "python3"
  },
  "language_info": {
   "codemirror_mode": {
    "name": "ipython",
    "version": 3
   },
   "file_extension": ".py",
   "mimetype": "text/x-python",
   "name": "python",
   "nbconvert_exporter": "python",
   "pygments_lexer": "ipython3",
   "version": "3.4.3"
  }
 },
 "nbformat": 4,
 "nbformat_minor": 0
}
