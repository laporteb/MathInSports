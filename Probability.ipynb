{
 "cells": [
  {
   "cell_type": "markdown",
   "metadata": {},
   "source": [
    "# Probability"
   ]
  },
  {
   "cell_type": "markdown",
   "metadata": {},
   "source": [
    "Probability is the measure of the likeliness that an event will occur.  Probability is quantified  as a number between 0 and 1.  The sum of probabilties of all the possible outcomes will equal to 1."
   ]
  },
  {
   "cell_type": "markdown",
   "metadata": {},
   "source": [
    "In probability an experiment is an event with an observable outcome, and the sample space is the set of ALL possible UNIQUE outcomes.\n",
    "As an example our experiment will be flipping a fair coin.\n",
    "\n",
    "Exp = Flip Coin => Sample Space = {H,T}\n",
    "\n",
    "Our sample space is that the coin could be Heads or Tails, the two only possibilities. So we can reason that the probabilty of each outcome is 0.5 or 50%.  Below is the simulation."
   ]
  },
  {
   "cell_type": "code",
   "execution_count": 7,
   "metadata": {},
   "outputs": [],
   "source": [
    "%matplotlib inline"
   ]
  },
  {
   "cell_type": "code",
   "execution_count": 54,
   "metadata": {},
   "outputs": [
    {
     "data": {
      "text/plain": [
       "(array([   3.,   14.,   46.,  172.,  191.,  330.,  184.,   43.,   12.,    4.]),\n",
       " array([ 0.24 ,  0.292,  0.344,  0.396,  0.448,  0.5  ,  0.552,  0.604,\n",
       "         0.656,  0.708,  0.76 ]),\n",
       " <a list of 10 Patch objects>)"
      ]
     },
     "execution_count": 54,
     "output_type": "execute_result",
     "metadata": {}
    },
    {
     "data": {
      "image/png": "[encoded data removed]"
     },
     "output_type": "display_data",
     "metadata": {}
    }
   ],
   "source": [
    "import numpy as np\n",
    "import pandas as pd\n",
    "import matplotlib.pyplot as plt\n",
    "import seaborn as sns\n",
    "\n",
    "\n",
    "def coin_toss(flips, prob, trials):\n",
    "    prob_heads = []\n",
    "    for i in range(1, trials):\n",
    "        s = np.random.binomial(1, prob, flips)  # will return a random integer from 0 to 1, 50 times\n",
    "        prob_heads.append(s.sum()/flips)\n",
    "        \n",
    "    return prob_heads\n",
    "\n",
    "\n",
    "flips = 50          # number of flips per experiment\n",
    "prob = 0.5          # probability of flipping heads 50% is a fair coin\n",
    "trials = 1000        # number of times to run the experiment\n",
    "\n",
    "prob_heads = coin_toss(flips, prob, trials)\n",
    "\n",
    "plt.title(\"Probability of Heads:  50 Flips, 1000 Times\")\n",
    "plt.hist(prob_heads)"
   ]
  },
  {
   "cell_type": "markdown",
   "metadata": {},
   "source": [
    "As you can see form the above plot the observed probability is not always 50%, the probability derived from the empirical evidence does not match the logical probability reasoned from the sample space.  This demonstrates THE CHAOS OF SMALL NUMBERS, because of the small sample size (50 flips), the empircal probabilities vary from the actual probabilities.  Inversely the LAW OF LARGE NUMBERS says if we have enough empirical evidence it should be close to what was derived from logic.  This is demonstrated below."
   ]
  },
  {
   "cell_type": "code",
   "execution_count": 25,
   "metadata": {},
   "outputs": [
    {
     "data": {
      "text/plain": [
       "(array([   4.,   14.,   55.,  136.,  211.,  257.,  176.,   89.,   45.,   12.]),\n",
       " array([ 0.4843,  0.4873,  0.4903,  0.4933,  0.4963,  0.4993,  0.5023,\n",
       "         0.5053,  0.5083,  0.5113,  0.5143]),\n",
       " <a list of 10 Patch objects>)"
      ]
     },
     "execution_count": 25,
     "output_type": "execute_result",
     "metadata": {}
    },
    {
     "data": {
      "image/png": "[encoded data removed]"
     },
     "output_type": "display_data",
     "metadata": {}
    }
   ],
   "source": [
    "flips = 10000          # number of flips per experiment\n",
    "prob = 0.5          # probability of flipping heads 50% is a fair coin\n",
    "trials = 1000        # number of times to run the experiment\n",
    "\n",
    "prob_heads = coin_toss(flips, prob, trials)\n",
    "\n",
    "plt.title(\"Probability of Heads:  10000 Flips, 1000 Times\")\n",
    "plt.hist(prob_heads)"
   ]
  },
  {
   "cell_type": "markdown",
   "metadata": {},
   "source": [
    "By flipping the coin 10,000 times, much larger than the previous 50, the observed probabilities center much closer to the expected 50%, and the spread of probabilities is much lower."
   ]
  },
  {
   "cell_type": "markdown",
   "metadata": {},
   "source": [
    "##The Question of the Hot Hand\n",
    "How can we use what has been learned so far to think about the question of the hot hand. If a basketball player has abnormally long runs of consecutive baskets in their play, you might say, or the observer might say, that this player has the hot hand.\n",
    "So first we must decide what is an abnormally long run of baskets. If a player has a 50% chance the making shot and takes 100 consecutive shots, what should be the longest run of baskets we should expect. \n",
    "\n",
    "| Trial    | Outcome   | Probability  |\n",
    "|----------|-----------|--------------|\n",
    "| 1        | BM        | 1/4          |\n",
    "| 2        | BBM       | 1/8          |\n",
    "| x        | BBB...BM  | 1/2exp(n+1)  | \n",
    "\n",
    "A run would consist of n number of baskets followed by a miss, which would be a probability of 1 / 2^(n+1).  As an example the probability of a run of 6 made baskets would be 1 /2^(6+1) or 0.78%.  So if we run 1000 trials with a trial ending afer the first miss our expectation is to have at approximately 0.78% x 1000 = 7.81 or 8.\n"
   ]
  },
  {
   "cell_type": "code",
   "execution_count": 50,
   "metadata": {},
   "outputs": [
    {
     "data": {
      "text/plain": [
       "(array([ 507.,  255.,  123.,   57.,   31.,   16.,    9.,    1.,    1.]),\n",
       " array([ 0.,  1.,  2.,  3.,  4.,  5.,  6.,  7.,  8.,  9.]),\n",
       " <a list of 9 Patch objects>)"
      ]
     },
     "execution_count": 50,
     "output_type": "execute_result",
     "metadata": {}
    },
    {
     "data": {
      "image/png": "[encoded data removed]"
     },
     "output_type": "display_data",
     "metadata": {}
    }
   ],
   "source": [
    "def sim_runs(prob, trials):\n",
    "    \n",
    "    length_runs = []\n",
    "    for i in range(1, trials):\n",
    "        run = 0\n",
    "        while np.random.binomial(1, prob):   \n",
    "             run = run + 1\n",
    "        else:\n",
    "            length_runs.append(run)\n",
    "    \n",
    "    return np.array(length_runs)\n",
    "            \n",
    "prob = 0.5\n",
    "trials = 1001\n",
    "\n",
    "length_runs = sim_runs(prob,trials)\n",
    "bins = length_runs.max()\n",
    "plt.hist(length_runs, bins=bins)"
   ]
  },
  {
   "cell_type": "code",
   "execution_count": 55,
   "metadata": {},
   "outputs": [
    {
     "data": {
      "text/plain": [
       "0    507\n",
       "1    255\n",
       "2    123\n",
       "3     57\n",
       "4     31\n",
       "5     16\n",
       "6      9\n",
       "9      1\n",
       "7      1\n",
       "dtype: int64"
      ]
     },
     "execution_count": 55,
     "output_type": "execute_result",
     "metadata": {}
    }
   ],
   "source": [
    "# Print out the number of runs equal to 6, should be approximately 8 according to our assigned probablilities\n",
    "\n",
    "pd.value_counts(pd.Series(length_runs))"
   ]
  },
  {
   "cell_type": "markdown",
   "metadata": {},
   "source": [
    "We can see in the above plot and table that we got 9 runs of 6 baskets in 1000 trials of the experiment.  This is very close to our expectation of 8. So, if a player does this trial 1000 times, what's the longest run of baskets we would expect in the data?\n",
    "Well, the longest run of baskets in the data should be equal to the natural logarithm of 1000 over the natural logarithm of 2.\n",
    "This equals 9.96 or approximately 10, and we see above that the highest runs reached was 9, very close to expectation."
   ]
  },
  {
   "cell_type": "markdown",
   "metadata": {},
   "source": [
    "##A Better Question\n",
    "Based on a fixed amount of shots what would the expected longest runs be.  Take a player shooting 10 field goal attempts per game, playing in 800 games, with a career shooting percent of 50%.  What is the longest run of consecutive baskets that could be expected?\n",
    "$$ LongestRun = \\frac{\\ln (800 * 10 * 0.5)} {\\ln 2} = 11.9 \\approx 12 baskets $$\n",
    "\n"
   ]
  },
  {
   "cell_type": "code",
   "execution_count": 66,
   "metadata": {},
   "outputs": [
    {
     "name": "stdout",
     "output_type": "stream",
     "text": [
      "The longest run is 12\n"
     ]
    },
    {
     "data": {
      "image/png": "[encoded data removed]"
     },
     "output_type": "display_data",
     "metadata": {}
    }
   ],
   "source": [
    "## plot distrabution of runs based on number of shots\n",
    "shots = np.random.binomial(1, 0.5, 8000)          # get an array of shots\n",
    "\n",
    "def get_runs(shots):\n",
    "    \n",
    "    run = 0\n",
    "    run_lengths = []                             #empty list for the run lengths\n",
    "\n",
    "    for shot in shots:\n",
    "        if(shot):               # if a 1 it was a bakset\n",
    "            run = run + 1       # increment the run count\n",
    "        else:\n",
    "            run_lengths.append(run)   # run is over on miss save run and reset run o zero\n",
    "            run = 0\n",
    "\n",
    "    return run_lengths\n",
    "\n",
    "run_lengths = pd.Series(get_runs(shots))\n",
    "plt.hist(run_lengths,bins=run_lengths.max())\n",
    "print(\"The longest run is {0}\".format(run_lengths.max()))"
   ]
  },
  {
   "cell_type": "markdown",
   "metadata": {},
   "source": [
    "In the simulation the longest run is 12, though if the simulation were run again it would likely vary.\n",
    "\n",
    "##King James\n",
    "\n",
    "Can the above be used to determine if King James is indeed a streaky player.  We will compare data from 319 consectutives shots made by Lebron James, a career shooter of approximately 49.6%, to random data generated with 49.6% probability.  As well if we apply the formula\n",
    "\n",
    "$$ LongestRun = \\frac{-\\ln (1-p)K} {\\ln p} $$\n",
    "\n",
    "Where K = number of shots, and p is equal to the probability, in this case Lebrons shooting percentage.  Applying the formula we end up with a longest run of 7 basksets.  "
   ]
  },
  {
   "cell_type": "code",
   "execution_count": 119,
   "metadata": {},
   "outputs": [
    {
     "name": "stdout",
     "output_type": "stream",
     "text": [
      "The longest length for Lebron is 7 and for the random data is 8\n",
      "319\n"
     ]
    },
    {
     "data": {
      "image/png": "[encoded data removed]"
     },
     "output_type": "display_data",
     "metadata": {}
    }
   ],
   "source": [
    "lebron_shots_1_0 = []\n",
    "\n",
    "lebron_shots = ('BBMMBMBBMMMMMBBBMBMMBMBMMB MBBMBBMMMMMBBMMM BBBMMMBBBMBMMMMB'\n",
    "                'BBBMMMBBMMBMMMBBBMBMM MMBMBMBBBBBMMB BMBBMMBBMMMMMMMBM' \n",
    "                'BMMBBMBBMMBBMBMBMMBBBBBMM BMMMBMMMBMMBBBBM MBMMMBBBBMBMMBBMBMMMMBBM'\n",
    "                'MBMMMBBMBBMMMBMBMBBBMMMMB MMBBBBBBBMBBMMM BMMBMBBBMMBMBMMB'\n",
    "                'BMBMMBBMMMBBMMBBBMBMBMB MBBMBBMMBMBMMMBBMMBMBBM'\n",
    "                'MBMMBBBMBMMBBBBMBMMBMMMB MBMBBMMBBMBBBBBMBM')\n",
    "\n",
    "lebron_shots = lebron_shots.replace(\" \", \"\")                      # remove the extra whitespace\n",
    "\n",
    "for shot in lebron_shots:                                         # turn the 'B' and 'M' into 1's and 0's\n",
    "    if shot == 'B':\n",
    "        lebron_shots_1_0.append(1)\n",
    "    else:\n",
    "        lebron_shots_1_0.append(0)\n",
    "        \n",
    "random_shots = np.random.binomial(1, 0.496, len(lebron_shots))      # generate random shots of same length\n",
    "\n",
    "lebron_lengths = pd.Series(get_runs(lebron_shots_1_0))\n",
    "random_lengths = pd.Series(get_runs(random_shots))\n",
    "lebron_max = lebron_lengths.max()\n",
    "random_max = random_lengths.max()\n",
    "bins = lebron_max if lebron_max > random_max else random_max\n",
    "bins = [bin for bin in range(0,bins+2)]\n",
    "\n",
    "#plt.subplot(121)\n",
    "plt.hist((lebron_lengths,random_lengths), alpha=0.5, bins=bins, label=('lebron', 'random'))\n",
    "#plt.hist(lebron_lengths, alpha=0.5, bins=bins, label='lebron')\n",
    "#plt.legend(loc='upper right')\n",
    "#plt.subplot(122)\n",
    "#plt.hist(random_lengths, alpha=0.5, bins=bins,label='random')\n",
    "plt.legend(loc='upper right')\n",
    "print(\"The longest length for Lebron is {0} and for the random data is {1}\".format(lebron_max, random_max))\n",
    "print(len(lebron_shots))"
   ]
  },
  {
   "cell_type": "markdown",
   "metadata": {},
   "source": [
    "When comparing Lebrons shot lengths to the randomly generated data there is nothing to indicate that Lebrons runs of consectutive baskets are streaky.  That is to say there is no eveidence to suggest that hot hand."
   ]
  },
  {
   "cell_type": "markdown",
   "metadata": {},
   "source": [
    "##Conditional Probablility\n",
    "In probability theory, a conditional probability measures the probability of an event given that (by assumption, presumption, assertion or evidence) another event has occurred. It has the following notations.\n",
    "\n",
    "$ P(A) $ - is the probability that A occurs\n",
    "\n",
    "$ P(A|B) $ - is the probability that A occurs given that B has occurred.\n",
    "\n",
    "$ P(A \\bigcap B) $ - is the probability that both A and B occur\n",
    "\n",
    "Rolling a six sided die twice leads to the following sample space:"
   ]
  },
  {
   "cell_type": "code",
   "execution_count": 123,
   "metadata": {},
   "outputs": [
    {
     "name": "stdout",
     "output_type": "stream",
     "text": [
      "[[1, 1], [1, 2], [1, 3], [1, 4], [1, 5], [1, 6], [2, 1], [2, 2], [2, 3], [2, 4], [2, 5], [2, 6], [3, 1], [3, 2], [3, 3], [3, 4], [3, 5], [3, 6], [4, 1], [4, 2], [4, 3], [4, 4], [4, 5], [4, 6], [5, 1], [5, 2], [5, 3], [5, 4], [5, 5], [5, 6], [6, 1], [6, 2], [6, 3], [6, 4], [6, 5], [6, 6]]\n"
     ]
    }
   ],
   "source": [
    "x = np.array([1,2,3,4,5,6])\n",
    "y = np.array([1,2,3,4,5,6])\n",
    "sample_space = [[x0, y0] for x0 in x for y0 in y]\n",
    "print(sample_space)"
   ]
  },
  {
   "cell_type": "markdown",
   "metadata": {},
   "source": [
    "The probability of any single outcome is equal to $ \\frac{1}{n} $ with n being equal to the number of outcomes in the sample space.  In this case the probability is equal to 1/36.\n",
    "The experiment outline will be A is the event that a 4 is observed on the first roll and B is the event that the product of the numbers is bigger than 10.  The following probabilties will be calculated\n",
    "\n",
    "$$ P(A), P(B), P(A \\bigcap B), P(B|A) $$\n",
    "\n"
   ]
  },
  {
   "cell_type": "code",
   "execution_count": 128,
   "metadata": {},
   "outputs": [
    {
     "name": "stdout",
     "output_type": "stream",
     "text": [
      "P(A) = 6/36\n",
      "P(B) = 17/36\n",
      "P(AnB) = 4/36\n",
      "P(B|A) = 4/6\n"
     ]
    }
   ],
   "source": [
    "# calculate the probabilites of the three different events\n",
    "\n",
    "event_A = 0\n",
    "event_B = 0\n",
    "event_AB = 0\n",
    "event_B_A = 0\n",
    "sample_space_A = []                 # new sample space for calculating P(B|A) prob of B given A\n",
    "\n",
    "for outcome in sample_space:\n",
    "    x, y = outcome\n",
    "    if x == 4:\n",
    "        event_A = event_A + 1\n",
    "        sample_space_A.append(outcome)\n",
    "    if (x * y) > 10:\n",
    "        event_B = event_B + 1\n",
    "    if x == 4 and x * y > 10:\n",
    "        event_AB = event_AB + 1\n",
    "\n",
    "for outcome in sample_space_A:\n",
    "    x, y = outcome\n",
    "    if x * y > 10:\n",
    "        event_B_A = event_B_A + 1\n",
    "\n",
    "print(\"P(A) = {0}/36\".format(event_A))\n",
    "print(\"P(B) = {0}/36\".format(event_B))\n",
    "print(\"P(AnB) = {0}/36\".format(event_AB))\n",
    "print(\"P(B|A) = {0}/{1}\".format(event_B_A, len(sample_space_A)))"
   ]
  },
  {
   "cell_type": "code",
   "execution_count": null,
   "metadata": {},
   "outputs": [],
   "source": [
    ""
   ]
  }
 ],
 "metadata": {
  "kernelspec": {
   "display_name": "Python 3",
   "language": "python",
   "name": "python3"
  },
  "language_info": {
   "codemirror_mode": {
    "name": "ipython",
    "version": 3.0
   },
   "file_extension": ".py",
   "mimetype": "text/x-python",
   "name": "python",
   "nbconvert_exporter": "python",
   "pygments_lexer": "ipython3",
   "version": "3.4.3"
  }
 },
 "nbformat": 4,
 "nbformat_minor": 0
}